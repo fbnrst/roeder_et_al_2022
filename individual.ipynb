{
 "cells": [
  {
   "cell_type": "markdown",
   "metadata": {},
   "source": [
    "# Preparation"
   ]
  },
  {
   "cell_type": "code",
   "execution_count": 1,
   "metadata": {
    "ExecuteTime": {
     "end_time": "2022-04-06T19:50:11.193860Z",
     "start_time": "2022-04-06T19:50:10.388438Z"
    }
   },
   "outputs": [],
   "source": [
    "# %load_ext ipycache\n",
    "import iminuit\n",
    "# %load_ext line_profiler\n",
    "import matplotlib.pyplot as plt\n",
    "%matplotlib inline\n",
    "import multiprocessing\n",
    "import numpy as np\n",
    "import pandas as pd\n",
    "import scipy as sp\n",
    "from scipy import optimize\n",
    "import seaborn as sns\n",
    "import statsmodels.api as sm\n",
    "import statsmodels.formula.api as smf\n",
    "\n",
    "%load_ext rpy2.ipython\n",
    "\n",
    "sns.set_style('darkgrid')\n",
    "sns.set_context('notebook')"
   ]
  },
  {
   "cell_type": "code",
   "execution_count": 2,
   "metadata": {
    "ExecuteTime": {
     "end_time": "2022-04-06T19:50:12.038595Z",
     "start_time": "2022-04-06T19:50:11.572468Z"
    }
   },
   "outputs": [],
   "source": [
    "%%R\n",
    "library(ggplot2)\n",
    "library(ggpubr)"
   ]
  },
  {
   "cell_type": "code",
   "execution_count": 3,
   "metadata": {
    "ExecuteTime": {
     "end_time": "2022-04-06T19:50:12.540826Z",
     "start_time": "2022-04-06T19:50:12.538134Z"
    }
   },
   "outputs": [],
   "source": [
    "results = pd.DataFrame()"
   ]
  },
  {
   "cell_type": "markdown",
   "metadata": {},
   "source": [
    "# Read patient data"
   ]
  },
  {
   "cell_type": "code",
   "execution_count": 5,
   "metadata": {
    "ExecuteTime": {
     "end_time": "2022-04-06T19:50:25.194192Z",
     "start_time": "2022-04-06T19:50:25.155932Z"
    }
   },
   "outputs": [],
   "source": [
    "data = pd.read_csv('data/C14 samples Erlangen 2019_20190830.csv')\n",
    "data = data.groupby(['ID', 'tissue', 'labelling']).mean().dropna(how='all').reset_index()\n",
    "data['age'] = data['Dcoll'] - data['Dbirth']\n",
    "data['e14C'] = data['error_measurement']\n",
    "datao = data.query('tissue == \"Amygdala\" and labelling==\"NeuN+\"')\n",
    "data = datao.append(pd.Series({'ID':'P5new','tissue':'Amygdala','labelling':'NeuN+',\n",
    "             'Dbirth':1973,'Dcoll':2017,'subject_age':44,'age':44,\n",
    "            'd14C':(datao.loc[16,'d14C'] + datao.loc[14,'d14C'])/2,\n",
    "            'e14C':(datao.loc[16,'e14C'] + datao.loc[14,'e14C'])/2,\n",
    "            'error_measurement':(datao.loc[16,'e14C'] + datao.loc[14,'e14C'])/2},name=22))\n",
    "exp_data = data"
   ]
  },
  {
   "cell_type": "markdown",
   "metadata": {},
   "source": [
    "# Individual rates"
   ]
  },
  {
   "cell_type": "code",
   "execution_count": 6,
   "metadata": {
    "ExecuteTime": {
     "end_time": "2022-04-06T19:57:30.196374Z",
     "start_time": "2022-04-06T19:52:33.526960Z"
    }
   },
   "outputs": [
    {
     "name": "stderr",
     "output_type": "stream",
     "text": [
      "Default logparas missing. \n",
      "No linparas -> assuming all are logparas. \n",
      "Default linparas missing. Assuming all are logparas\n",
      "Default parameters missing sigma added automatikcally with limits 0,0.2\n",
      "/home/julian/pythonenv/c14/lib/python3.8/site-packages/scipy/optimize/optimize.py:2970: RuntimeWarning: invalid value encountered in subtract\n",
      "  if (fx2 - fval) > delta:\n",
      "/home/julian/pythonenv/c14/lib/python3.8/site-packages/scipy/optimize/optimize.py:2979: RuntimeWarning: invalid value encountered in subtract\n",
      "  if 2.0 * (fx - fval) <= bnd:\n",
      "/home/julian/pythonenv/c14/lib/python3.8/site-packages/scipy/optimize/optimize.py:2555: RuntimeWarning: invalid value encountered in double_scalars\n",
      "  w = xb - ((xb - xc) * tmp2 - (xb - xa) * tmp1) / denom\n",
      "Default logparas missing. \n",
      "No linparas -> assuming all are logparas. \n",
      "Default linparas missing. Assuming all are logparas\n",
      "Default parameters missing sigma added automatikcally with limits 0,0.2\n",
      "Default logparas missing. \n",
      "No linparas -> assuming all are logparas. \n",
      "Default linparas missing. Assuming all are logparas\n",
      "Default parameters missing sigma added automatikcally with limits 0,0.2\n",
      "Default logparas missing. \n",
      "No linparas -> assuming all are logparas. \n",
      "Default linparas missing. Assuming all are logparas\n",
      "Default parameters missing sigma added automatikcally with limits 0,0.2\n",
      "/home/julian/uni/c14/c14/c14/optimize.py:164: RuntimeWarning: divide by zero encountered in log\n",
      "  loglike = -n*0.5*(2.837877066409345 + np.log(sse))\n",
      "/home/julian/pythonenv/c14/lib/python3.8/site-packages/scipy/optimize/optimize.py:2150: RuntimeWarning: invalid value encountered in double_scalars\n",
      "  p = (x - v) * tmp2 - (x - w) * tmp1\n",
      "/home/julian/pythonenv/c14/lib/python3.8/site-packages/scipy/optimize/optimize.py:2151: RuntimeWarning: invalid value encountered in double_scalars\n",
      "  tmp2 = 2.0 * (tmp2 - tmp1)\n",
      "/home/julian/pythonenv/c14/lib/python3.8/site-packages/scipy/optimize/optimize.py:2149: RuntimeWarning: invalid value encountered in double_scalars\n",
      "  tmp2 = (x - v) * (fx - fw)\n",
      "/home/julian/pythonenv/c14/lib/python3.8/site-packages/scipy/optimize/optimize.py:2148: RuntimeWarning: invalid value encountered in double_scalars\n",
      "  tmp1 = (x - w) * (fx - fv)\n",
      "Default logparas missing. \n",
      "No linparas -> assuming all are logparas. \n",
      "Default linparas missing. Assuming all are logparas\n",
      "Default parameters missing sigma added automatikcally with limits 0,0.2\n",
      "Default logparas missing. \n",
      "No linparas -> assuming all are logparas. \n",
      "Default linparas missing. Assuming all are logparas\n",
      "Default parameters missing sigma added automatikcally with limits 0,0.2\n",
      "/home/julian/pythonenv/c14/lib/python3.8/site-packages/scipy/optimize/optimize.py:2970: RuntimeWarning: invalid value encountered in double_scalars\n",
      "  if (fx2 - fval) > delta:\n",
      "/home/julian/pythonenv/c14/lib/python3.8/site-packages/scipy/optimize/optimize.py:2979: RuntimeWarning: invalid value encountered in double_scalars\n",
      "  if 2.0 * (fx - fval) <= bnd:\n",
      "Default logparas missing. \n",
      "No linparas -> assuming all are logparas. \n",
      "Default linparas missing. Assuming all are logparas\n",
      "Default parameters missing sigma added automatikcally with limits 0,0.2\n"
     ]
    }
   ],
   "source": [
    "import c14\n",
    "import c14.models.amygdala\n",
    "#take about 5 hours\n",
    "ind_rates = []\n",
    "index =[]\n",
    "for ind,_ in exp_data.iterrows():\n",
    "    row = data.loc[[ind]]\n",
    "    m = c14.models.amygdala.A()\n",
    "    edata = c14.exp_data(row)\n",
    "    op = c14.optimize(m,edata,step_size=0.1)\n",
    "    for i in  [0,-1,-2]:\n",
    "        resa = sp.optimize.minimize(lambda x: op.Nloglike(x, op.model), [i],method='powell')\n",
    "        resa['x'] = float(resa['x'])\n",
    "        ind_rates.append(resa) \n",
    "    \n",
    "    index.append(ind)\n",
    "individual_rates_raw = pd.DataFrame(ind_rates,index=pd.MultiIndex.from_product([index,['a','b','c']],names=['index','ms']))"
   ]
  },
  {
   "cell_type": "code",
   "execution_count": 7,
   "metadata": {
    "ExecuteTime": {
     "end_time": "2022-04-06T19:57:30.206115Z",
     "start_time": "2022-04-06T19:57:30.197233Z"
    }
   },
   "outputs": [],
   "source": [
    "individual_rates=[]\n",
    "for i in individual_rates_raw.index.levels[0]:\n",
    "    il = np.argmin(individual_rates_raw.loc[pd.IndexSlice[i,:]]['fun'])\n",
    "    individual_rates.append(individual_rates_raw.loc[pd.IndexSlice[i,:]].iloc[il])\n",
    "individual_rates = pd.DataFrame(individual_rates,index=individual_rates_raw.index.levels[0])"
   ]
  },
  {
   "cell_type": "code",
   "execution_count": 16,
   "metadata": {
    "ExecuteTime": {
     "end_time": "2022-04-06T19:58:45.096000Z",
     "start_time": "2022-04-06T19:58:45.083763Z"
    }
   },
   "outputs": [
    {
     "data": {
      "text/html": [
       "<div>\n",
       "<style scoped>\n",
       "    .dataframe tbody tr th:only-of-type {\n",
       "        vertical-align: middle;\n",
       "    }\n",
       "\n",
       "    .dataframe tbody tr th {\n",
       "        vertical-align: top;\n",
       "    }\n",
       "\n",
       "    .dataframe thead th {\n",
       "        text-align: right;\n",
       "    }\n",
       "</style>\n",
       "<table border=\"1\" class=\"dataframe\">\n",
       "  <thead>\n",
       "    <tr style=\"text-align: right;\">\n",
       "      <th></th>\n",
       "      <th>ID</th>\n",
       "      <th>tissue</th>\n",
       "      <th>labelling</th>\n",
       "      <th>Dbirth</th>\n",
       "      <th>Dcoll</th>\n",
       "      <th>d14C</th>\n",
       "      <th>error_measurement</th>\n",
       "      <th>subject_age</th>\n",
       "      <th>age</th>\n",
       "      <th>e14C</th>\n",
       "      <th>individual_rate_SSE</th>\n",
       "    </tr>\n",
       "  </thead>\n",
       "  <tbody>\n",
       "    <tr>\n",
       "      <th>0</th>\n",
       "      <td>ER2019_01</td>\n",
       "      <td>Amygdala</td>\n",
       "      <td>NeuN+</td>\n",
       "      <td>1932</td>\n",
       "      <td>2012</td>\n",
       "      <td>0.00540</td>\n",
       "      <td>0.009000</td>\n",
       "      <td>80</td>\n",
       "      <td>80</td>\n",
       "      <td>0.009000</td>\n",
       "      <td>0.001382</td>\n",
       "    </tr>\n",
       "    <tr>\n",
       "      <th>4</th>\n",
       "      <td>ER2019_02</td>\n",
       "      <td>Amygdala</td>\n",
       "      <td>NeuN+</td>\n",
       "      <td>1936</td>\n",
       "      <td>2012</td>\n",
       "      <td>-0.00130</td>\n",
       "      <td>0.010000</td>\n",
       "      <td>76</td>\n",
       "      <td>76</td>\n",
       "      <td>0.010000</td>\n",
       "      <td>0.000975</td>\n",
       "    </tr>\n",
       "    <tr>\n",
       "      <th>8</th>\n",
       "      <td>ER2019_03</td>\n",
       "      <td>Amygdala</td>\n",
       "      <td>NeuN+</td>\n",
       "      <td>1954</td>\n",
       "      <td>2017</td>\n",
       "      <td>-0.00330</td>\n",
       "      <td>0.006350</td>\n",
       "      <td>63</td>\n",
       "      <td>63</td>\n",
       "      <td>0.006350</td>\n",
       "      <td>0.001432</td>\n",
       "    </tr>\n",
       "    <tr>\n",
       "      <th>12</th>\n",
       "      <td>ER2019_04</td>\n",
       "      <td>Amygdala</td>\n",
       "      <td>NeuN+</td>\n",
       "      <td>1969</td>\n",
       "      <td>2017</td>\n",
       "      <td>0.45630</td>\n",
       "      <td>0.010900</td>\n",
       "      <td>48</td>\n",
       "      <td>48</td>\n",
       "      <td>0.010900</td>\n",
       "      <td>0.008090</td>\n",
       "    </tr>\n",
       "    <tr>\n",
       "      <th>14</th>\n",
       "      <td>ER2019_05</td>\n",
       "      <td>Amygdala</td>\n",
       "      <td>NeuN+</td>\n",
       "      <td>1973</td>\n",
       "      <td>2017</td>\n",
       "      <td>0.31090</td>\n",
       "      <td>0.008150</td>\n",
       "      <td>44</td>\n",
       "      <td>44</td>\n",
       "      <td>0.008150</td>\n",
       "      <td>0.015588</td>\n",
       "    </tr>\n",
       "    <tr>\n",
       "      <th>16</th>\n",
       "      <td>ER2019_06</td>\n",
       "      <td>Amygdala</td>\n",
       "      <td>NeuN+</td>\n",
       "      <td>1973</td>\n",
       "      <td>2017</td>\n",
       "      <td>0.33320</td>\n",
       "      <td>0.007300</td>\n",
       "      <td>44</td>\n",
       "      <td>44</td>\n",
       "      <td>0.007300</td>\n",
       "      <td>0.013004</td>\n",
       "    </tr>\n",
       "    <tr>\n",
       "      <th>22</th>\n",
       "      <td>P5new</td>\n",
       "      <td>Amygdala</td>\n",
       "      <td>NeuN+</td>\n",
       "      <td>1973</td>\n",
       "      <td>2017</td>\n",
       "      <td>0.32205</td>\n",
       "      <td>0.007725</td>\n",
       "      <td>44</td>\n",
       "      <td>44</td>\n",
       "      <td>0.007725</td>\n",
       "      <td>0.014267</td>\n",
       "    </tr>\n",
       "  </tbody>\n",
       "</table>\n",
       "</div>"
      ],
      "text/plain": [
       "           ID    tissue labelling  Dbirth  Dcoll     d14C  error_measurement  \\\n",
       "0   ER2019_01  Amygdala     NeuN+    1932   2012  0.00540           0.009000   \n",
       "4   ER2019_02  Amygdala     NeuN+    1936   2012 -0.00130           0.010000   \n",
       "8   ER2019_03  Amygdala     NeuN+    1954   2017 -0.00330           0.006350   \n",
       "12  ER2019_04  Amygdala     NeuN+    1969   2017  0.45630           0.010900   \n",
       "14  ER2019_05  Amygdala     NeuN+    1973   2017  0.31090           0.008150   \n",
       "16  ER2019_06  Amygdala     NeuN+    1973   2017  0.33320           0.007300   \n",
       "22      P5new  Amygdala     NeuN+    1973   2017  0.32205           0.007725   \n",
       "\n",
       "    subject_age  age      e14C  individual_rate_SSE  \n",
       "0            80   80  0.009000             0.001382  \n",
       "4            76   76  0.010000             0.000975  \n",
       "8            63   63  0.006350             0.001432  \n",
       "12           48   48  0.010900             0.008090  \n",
       "14           44   44  0.008150             0.015588  \n",
       "16           44   44  0.007300             0.013004  \n",
       "22           44   44  0.007725             0.014267  "
      ]
     },
     "execution_count": 16,
     "metadata": {},
     "output_type": "execute_result"
    }
   ],
   "source": [
    "exp_data['individual_rate_SSE'] = 10**individual_rates['x']\n",
    "exp_data"
   ]
  },
  {
   "cell_type": "code",
   "execution_count": 17,
   "metadata": {
    "ExecuteTime": {
     "end_time": "2022-04-06T19:59:23.765509Z",
     "start_time": "2022-04-06T19:59:23.072919Z"
    }
   },
   "outputs": [
    {
     "name": "stderr",
     "output_type": "stream",
     "text": [
      "<ipython-input-17-b1a8a24e0990>:6: MatplotlibDeprecationWarning: Support for setting the 'text.latex.preamble' or 'pgf.preamble' rcParam to a list of strings is deprecated since 3.3 and will be removed two minor releases later; set it to a single string instead.\n",
      "  rc('text.latex', preamble=[\n"
     ]
    },
    {
     "data": {
      "image/png": "[encoded data removed]",
      "text/plain": [
       "<Figure size 288x288 with 1 Axes>"
      ]
     },
     "metadata": {},
     "output_type": "display_data"
    }
   ],
   "source": [
    "from matplotlib import rcParams,rc\n",
    "fonts = 1\n",
    "sns.set(context=\"paper\",style='white',font_scale=fonts)\n",
    "\n",
    "rc('font',**{'family':'sans-serif','sans-serif':['Helvetica']})\n",
    "rc('text.latex', preamble=[\n",
    "       r'\\usepackage{siunitx}',   # i need upright \\micro symbols, but you need...\n",
    "       r'\\sisetup{detect-all}',   # ...this to force siunitx to actually use your fonts\n",
    "       r'\\usepackage{helvet}',    # set the normal font here\n",
    "       r'\\usepackage{sansmath}',  # load up the sansmath so that math -> helvet\n",
    "       r'\\sansmath'               # <- tricky! -- gotta actually tell tex to use!\n",
    "]  )\n",
    "\n",
    "\n",
    "rc('text', usetex=True)\n",
    "\n",
    "plt.rcParams[\"axes.grid\"] = True\n",
    "fig=plt.figure(figsize=(4,4))\n",
    "\n",
    "plt.fill_between(pg.x,pg.ymax,pg.ymin,color='black',alpha=0.2)\n",
    "exp_dataA = exp_data.drop([16,14])\n",
    "l,=plt.plot(exp_dataA.subject_age,exp_dataA.individual_rate_SSE,'ko')\n",
    "plt.plot(pg.x,pg.y)\n",
    "\n",
    "\n",
    "plt.xlabel('subject age')\n",
    "plt.ylabel('individual rate')\n",
    "plt.ylim(0,0.02)\n",
    "plt.xlim(43,82)\n",
    "plt.tight_layout()\n",
    "# plt.legend(loc=\"upper left\", bbox_to_anchor=(1.1, 1.1))\n",
    "plt.savefig('../c14-a/A.pdf',dpi=600, bbox_inches='tight')\n",
    "plt.savefig('../c14-a/A.png',dpi=600, bbox_inches='tight')\n",
    "\n",
    "#plt.ylim(-0.01,0.02)\n",
    "#plt.xlim(43,82)\n",
    "#plt.tight_layout()\n",
    "# plt.legend(loc=\"upper left\", bbox_to_anchor=(1.1, 1.1))\n",
    "#plt.savefig('../c14-a/A2.pdf',dpi=600, bbox_inches='tight')\n",
    "#plt.savefig('../c14-a/A2.png',dpi=600, bbox_inches='tight')"
   ]
  },
  {
   "cell_type": "code",
   "execution_count": 18,
   "metadata": {
    "ExecuteTime": {
     "end_time": "2022-04-06T19:59:31.713228Z",
     "start_time": "2022-04-06T19:59:31.037922Z"
    }
   },
   "outputs": [
    {
     "name": "stderr",
     "output_type": "stream",
     "text": [
      "<ipython-input-18-bf78723b3934>:6: MatplotlibDeprecationWarning: Support for setting the 'text.latex.preamble' or 'pgf.preamble' rcParam to a list of strings is deprecated since 3.3 and will be removed two minor releases later; set it to a single string instead.\n",
      "  rc('text.latex', preamble=[\n"
     ]
    },
    {
     "data": {
      "image/png": "[encoded data removed]",
      "text/plain": [
       "<Figure size 288x288 with 1 Axes>"
      ]
     },
     "metadata": {},
     "output_type": "display_data"
    }
   ],
   "source": [
    "from matplotlib import rcParams,rc\n",
    "fonts = 1\n",
    "sns.set(context=\"paper\",style='white',font_scale=fonts)\n",
    "\n",
    "rc('font',**{'family':'sans-serif','sans-serif':['Helvetica']})\n",
    "rc('text.latex', preamble=[\n",
    "       r'\\usepackage{siunitx}',   # i need upright \\micro symbols, but you need...\n",
    "       r'\\sisetup{detect-all}',   # ...this to force siunitx to actually use your fonts\n",
    "       r'\\usepackage{helvet}',    # set the normal font here\n",
    "       r'\\usepackage{sansmath}',  # load up the sansmath so that math -> helvet\n",
    "       r'\\sansmath'               # <- tricky! -- gotta actually tell tex to use!\n",
    "]  )\n",
    "\n",
    "\n",
    "rc('text', usetex=True)\n",
    "\n",
    "plt.rcParams[\"axes.grid\"] = True\n",
    "fig=plt.figure(figsize=(4,4))\n",
    "\n",
    "plt.fill_between(pg.x,pg.ymax,pg.ymin,color='black',alpha=0.2)\n",
    "exp_dataA = exp_data.drop([16,14])\n",
    "l,=plt.plot(exp_dataA.subject_age,exp_dataA.individual_rate_SSE,'ko')\n",
    "exp_dataA = exp_data.loc[[16,14]]\n",
    "l,=plt.plot(exp_dataA.subject_age,exp_dataA.individual_rate_SSE,'go')\n",
    "plt.plot(pg.x,pg.y)\n",
    "\n",
    "\n",
    "plt.xlabel('subject age')\n",
    "plt.ylabel('individual rate')\n",
    "plt.ylim(0,0.02)\n",
    "plt.xlim(43,82)\n",
    "plt.tight_layout()\n",
    "# plt.legend(loc=\"upper left\", bbox_to_anchor=(1.1, 1.1))\n",
    "plt.savefig('../c14-a/A2.pdf',dpi=600, bbox_inches='tight')\n",
    "plt.savefig('../c14-a/A2.png',dpi=600, bbox_inches='tight')\n",
    "\n",
    "#plt.ylim(-0.01,0.02)\n",
    "#plt.xlim(43,82)\n",
    "#plt.tight_layout()\n",
    "# plt.legend(loc=\"upper left\", bbox_to_anchor=(1.1, 1.1))\n",
    "#plt.savefig('../c14-a/A2.pdf',dpi=600, bbox_inches='tight')\n",
    "#plt.savefig('../c14-a/A2.png',dpi=600, bbox_inches='tight')"
   ]
  },
  {
   "cell_type": "code",
   "execution_count": null,
   "metadata": {},
   "outputs": [],
   "source": []
  }
 ],
 "metadata": {
  "anaconda-cloud": {},
  "kernelspec": {
   "display_name": "c14",
   "language": "python",
   "name": "c14"
  },
  "language_info": {
   "codemirror_mode": {
    "name": "ipython",
    "version": 3
   },
   "file_extension": ".py",
   "mimetype": "text/x-python",
   "name": "python",
   "nbconvert_exporter": "python",
   "pygments_lexer": "ipython3",
   "version": "3.8.10"
  },
  "notify_time": "30",
  "toc": {
   "base_numbering": 1,
   "nav_menu": {
    "height": "251px",
    "width": "252px"
   },
   "number_sections": true,
   "sideBar": true,
   "skip_h1_title": false,
   "title_cell": "Table of Contents",
   "title_sidebar": "Contents",
   "toc_cell": false,
   "toc_position": {
    "height": "913px",
    "left": "0px",
    "right": "1708px",
    "top": "111px",
    "width": "212px"
   },
   "toc_section_display": "block",
   "toc_window_display": true
  }
 },
 "nbformat": 4,
 "nbformat_minor": 4
}
